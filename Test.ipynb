{
 "cells": [
  {
   "cell_type": "code",
   "execution_count": 1,
   "metadata": {},
   "outputs": [],
   "source": [
    "    def download(url):\n",
    "        if url is None:\n",
    "            return None\n",
    "        r = requests.get(url, headers=config.headers)\n",
    "        if r.status_code == 200:\n",
    "            r.encoding = 'utf-8'\n",
    "            return r.text\n",
    "        else:\n",
    "            print('下载网页内容失败！')\n",
    "            return"
   ]
  },
  {
   "cell_type": "code",
   "execution_count": 2,
   "metadata": {},
   "outputs": [],
   "source": [
    "    import re\n",
    "from bs4 import BeautifulSoup\n",
    "from urllib import parse\n",
    "    def _get_new_data( page_url, soup):\n",
    "        \"\"\"\n",
    "        抽取有效数据\n",
    "        :param page_url: 下载页面的url\n",
    "        :param soup: soup\n",
    "        :return: 返回有效数据\n",
    "        \"\"\"\n",
    "        data = {}\n",
    "        data['url'] = page_url\n",
    "        title = soup.find('div', id='wrapper').find('h1').find('span')\n",
    "        data['title'] = title.get_text()\n",
    "        summary = soup.find('div', class_='intro').find_all('p')\n",
    "        liststr = []\n",
    "        for i in range(len(summary)):\n",
    "            liststr.append(summary[i].get_text())\n",
    "        data['summary'] = ''.join(liststr)\n",
    "        # 更改了数据格式，便于存入数据库\n",
    "        return data"
   ]
  },
  {
   "cell_type": "code",
   "execution_count": 3,
   "metadata": {},
   "outputs": [],
   "source": [
    "    def parser(page_url, html_cont, option):\n",
    "        \"\"\"\n",
    "        用于解析网页内容抽取url和数据\n",
    "        :param page_url: 下载页面的url\n",
    "        :param html_cont: 下载的网页内容\n",
    "        :return:当option参数为0时解析url，为1时解析data\n",
    "        \"\"\"\n",
    "        if page_url is None or html_cont is None:\n",
    "            return\n",
    "        soup = BeautifulSoup(html_cont, 'html.parser')\n",
    "        if option == 0:\n",
    "            new_urls = _get_new_urls(soup)\n",
    "            return new_urls\n",
    "        if option == 1:\n",
    "            new_data = _get_new_data(page_url, soup)\n",
    "            return new_data"
   ]
  },
  {
   "cell_type": "code",
   "execution_count": 4,
   "metadata": {},
   "outputs": [],
   "source": [
    "    def _get_new_urls(soup):\n",
    "        \"\"\"\n",
    "        抽取新的url集合\n",
    "        :param soup: soup\n",
    "        :return: 返回新的url集合\n",
    "        \"\"\"\n",
    "        new_urls = set()\n",
    "        links = soup.find('div', class_='article').find_all('a', href=re.compile(r'https://book.douban.com/subject/\\d{7,8}/$'))\n",
    "        # 更精确的限制了解析区域，之前的则会解析边栏内书籍的url，同时发现书籍url内的图书编号数字不一定有8位\n",
    "        for link in links:\n",
    "            # 提取href属性\n",
    "            new_url = link['href']\n",
    "            new_urls.add(new_url)\n",
    "        return new_urls"
   ]
  },
  {
   "cell_type": "code",
   "execution_count": 6,
   "metadata": {},
   "outputs": [
    {
     "name": "stdout",
     "output_type": "stream",
     "text": [
      "1\n",
      "[{'url': 'https://book.douban.com/subject/6082808/', 'title': '百年孤独', 'summary': '《百年孤独》是魔幻现实主义文学的代表作，描写了布恩迪亚家族七代人的传奇故事，以及加勒比海沿岸小镇马孔多的百年兴衰，反映了拉丁美洲一个世纪以来风云变幻的历史。作品融入神话传说、民间故事、宗教典故等神秘因素，巧妙地糅合了现实与虚幻，展现出一个瑰丽的想象世界，成为20世纪最重要的经典文学巨著之一。1982年加西亚•马尔克斯获得诺贝尔文学奖，奠定世界级文学大师的地位，很大程度上乃是凭借《百年孤独》的巨大影响。'}]\n"
     ]
    }
   ],
   "source": [
    "datasHTML=[]\n",
    "data = {'url': 'https://book.douban.com/subject/6082808/', 'title': '百年孤独', 'summary': '《百年孤独》是魔幻现实主义文学的代表作，描写了布恩迪亚家族七代人的传奇故事，以及加勒比海沿岸小镇马孔多的百年兴衰，反映了拉丁美洲一个世纪以来风云变幻的历史。作品融入神话传说、民间故事、宗教典故等神秘因素，巧妙地糅合了现实与虚幻，展现出一个瑰丽的想象世界，成为20世纪最重要的经典文学巨著之一。1982年加西亚•马尔克斯获得诺贝尔文学奖，奠定世界级文学大师的地位，很大程度上乃是凭借《百年孤独》的巨大影响。'}\n",
    "datasHTML.append(data)\n",
    "print(len(datasHTML))\n",
    "print(datasHTML)"
   ]
  },
  {
   "cell_type": "code",
   "execution_count": 8,
   "metadata": {},
   "outputs": [
    {
     "name": "stdout",
     "output_type": "stream",
     "text": [
      "https://book.douban.com/subject/6082808/\n",
      "百年孤独\n",
      "《百年孤独》是魔幻现实主义文学的代表作，描写了布恩迪亚家族七代人的传奇故事，以及加勒比海沿岸小镇马孔多的百年兴衰，反映了拉丁美洲一个世纪以来风云变幻的历史。作品融入神话传说、民间故事、宗教典故等神秘因素，巧妙地糅合了现实与虚幻，展现出一个瑰丽的想象世界，成为20世纪最重要的经典文学巨著之一。1982年加西亚•马尔克斯获得诺贝尔文学奖，奠定世界级文学大师的地位，很大程度上乃是凭借《百年孤独》的巨大影响。\n"
     ]
    }
   ],
   "source": [
    "for data in datasHTML:\n",
    "        print(data['url'])\n",
    "        print(data['title'])\n",
    "        print(data['summary'])"
   ]
  },
  {
   "cell_type": "code",
   "execution_count": null,
   "metadata": {},
   "outputs": [],
   "source": []
  }
 ],
 "metadata": {
  "kernelspec": {
   "display_name": "Python 3.6",
   "language": "python",
   "name": "python_3.6"
  },
  "language_info": {
   "codemirror_mode": {
    "name": "ipython",
    "version": 3
   },
   "file_extension": ".py",
   "mimetype": "text/x-python",
   "name": "python",
   "nbconvert_exporter": "python",
   "pygments_lexer": "ipython3",
   "version": "3.6.5"
  }
 },
 "nbformat": 4,
 "nbformat_minor": 2
}
