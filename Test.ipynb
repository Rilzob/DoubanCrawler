{
 "cells": [
  {
   "cell_type": "code",
   "execution_count": 1,
   "metadata": {},
   "outputs": [],
   "source": [
    "    def download(url):\n",
    "        if url is None:\n",
    "            return None\n",
    "        r = requests.get(url, headers=config.headers)\n",
    "        if r.status_code == 200:\n",
    "            r.encoding = 'utf-8'\n",
    "            return r.text\n",
    "        else:\n",
    "            print('下载网页内容失败！')\n",
    "            return"
   ]
  },
  {
   "cell_type": "code",
   "execution_count": 2,
   "metadata": {},
   "outputs": [],
   "source": [
    "    import re\n",
    "from bs4 import BeautifulSoup\n",
    "from urllib import parse\n",
    "    def _get_new_data( page_url, soup):\n",
    "        \"\"\"\n",
    "        抽取有效数据\n",
    "        :param page_url: 下载页面的url\n",
    "        :param soup: soup\n",
    "        :return: 返回有效数据\n",
    "        \"\"\"\n",
    "        data = {}\n",
    "        data['url'] = page_url\n",
    "        title = soup.find('div', id='wrapper').find('h1').find('span')\n",
    "        data['title'] = title.get_text()\n",
    "        summary = soup.find('div', class_='intro').find_all('p')\n",
    "        liststr = []\n",
    "        for i in range(len(summary)):\n",
    "            liststr.append(summary[i].get_text())\n",
    "        data['summary'] = ''.join(liststr)\n",
    "        # 更改了数据格式，便于存入数据库\n",
    "        return data"
   ]
  },
  {
   "cell_type": "code",
   "execution_count": 3,
   "metadata": {},
   "outputs": [],
   "source": [
    "    def parser(page_url, html_cont, option):\n",
    "        \"\"\"\n",
    "        用于解析网页内容抽取url和数据\n",
    "        :param page_url: 下载页面的url\n",
    "        :param html_cont: 下载的网页内容\n",
    "        :return:当option参数为0时解析url，为1时解析data\n",
    "        \"\"\"\n",
    "        if page_url is None or html_cont is None:\n",
    "            return\n",
    "        soup = BeautifulSoup(html_cont, 'html.parser')\n",
    "        if option == 0:\n",
    "            new_urls = _get_new_urls(soup)\n",
    "            return new_urls\n",
    "        if option == 1:\n",
    "            new_data = _get_new_data(page_url, soup)\n",
    "            return new_data"
   ]
  },
  {
   "cell_type": "code",
   "execution_count": 4,
   "metadata": {},
   "outputs": [],
   "source": [
    "    def _get_new_urls(soup):\n",
    "        \"\"\"\n",
    "        抽取新的url集合\n",
    "        :param soup: soup\n",
    "        :return: 返回新的url集合\n",
    "        \"\"\"\n",
    "        new_urls = set()\n",
    "        links = soup.find('div', class_='article').find_all('a', href=re.compile(r'https://book.douban.com/subject/\\d{7,8}/$'))\n",
    "        # 更精确的限制了解析区域，之前的则会解析边栏内书籍的url，同时发现书籍url内的图书编号数字不一定有8位\n",
    "        for link in links:\n",
    "            # 提取href属性\n",
    "            new_url = link['href']\n",
    "            new_urls.add(new_url)\n",
    "        return new_urls"
   ]
  },
  {
   "cell_type": "code",
   "execution_count": 6,
   "metadata": {},
   "outputs": [
    {
     "name": "stdout",
     "output_type": "stream",
     "text": [
      "1\n",
      "[{'url': 'https://book.douban.com/subject/6082808/', 'title': '百年孤独', 'summary': '《百年孤独》是魔幻现实主义文学的代表作，描写了布恩迪亚家族七代人的传奇故事，以及加勒比海沿岸小镇马孔多的百年兴衰，反映了拉丁美洲一个世纪以来风云变幻的历史。作品融入神话传说、民间故事、宗教典故等神秘因素，巧妙地糅合了现实与虚幻，展现出一个瑰丽的想象世界，成为20世纪最重要的经典文学巨著之一。1982年加西亚•马尔克斯获得诺贝尔文学奖，奠定世界级文学大师的地位，很大程度上乃是凭借《百年孤独》的巨大影响。'}]\n"
     ]
    }
   ],
   "source": [
    "datasHTML=[]\n",
    "data = {'url': 'https://book.douban.com/subject/6082808/', 'title': '百年孤独', 'summary': '《百年孤独》是魔幻现实主义文学的代表作，描写了布恩迪亚家族七代人的传奇故事，以及加勒比海沿岸小镇马孔多的百年兴衰，反映了拉丁美洲一个世纪以来风云变幻的历史。作品融入神话传说、民间故事、宗教典故等神秘因素，巧妙地糅合了现实与虚幻，展现出一个瑰丽的想象世界，成为20世纪最重要的经典文学巨著之一。1982年加西亚•马尔克斯获得诺贝尔文学奖，奠定世界级文学大师的地位，很大程度上乃是凭借《百年孤独》的巨大影响。'}\n",
    "datasHTML.append(data)\n",
    "print(len(datasHTML))\n",
    "print(datasHTML)"
   ]
  },
  {
   "cell_type": "code",
   "execution_count": 8,
   "metadata": {},
   "outputs": [
    {
     "name": "stdout",
     "output_type": "stream",
     "text": [
      "https://book.douban.com/subject/6082808/\n",
      "百年孤独\n",
      "《百年孤独》是魔幻现实主义文学的代表作，描写了布恩迪亚家族七代人的传奇故事，以及加勒比海沿岸小镇马孔多的百年兴衰，反映了拉丁美洲一个世纪以来风云变幻的历史。作品融入神话传说、民间故事、宗教典故等神秘因素，巧妙地糅合了现实与虚幻，展现出一个瑰丽的想象世界，成为20世纪最重要的经典文学巨著之一。1982年加西亚•马尔克斯获得诺贝尔文学奖，奠定世界级文学大师的地位，很大程度上乃是凭借《百年孤独》的巨大影响。\n"
     ]
    }
   ],
   "source": [
    "for data in datasHTML:\n",
    "        print(data['url'])\n",
    "        print(data['title'])\n",
    "        print(data['summary'])"
   ]
  },
  {
   "cell_type": "code",
   "execution_count": 16,
   "metadata": {},
   "outputs": [],
   "source": [
    "content = '''\n",
    "<div id=\"info\" class=\"\">\n",
    "\n",
    "\n",
    "\n",
    "    \n",
    "    \n",
    "  \n",
    "    <span>\n",
    "      <span class=\"pl\"> 作者</span>:\n",
    "        \n",
    "            \n",
    "            <a class=\"\" href=\"/search/%E7%BF%81%E6%98%95\">翁昕</a>\n",
    "    </span><br>\n",
    "\n",
    "    \n",
    "    \n",
    "  \n",
    "    <span class=\"pl\">出版社:</span> 未读·艺术家·北京联合出版公司<br>\n",
    "\n",
    "    \n",
    "    \n",
    "  \n",
    "    <span class=\"pl\">出品方:</span>&nbsp;<a href=\"https://book.douban.com/series/39073?brand=1\">未读</a><br>\n",
    "\n",
    "    \n",
    "    \n",
    "  \n",
    "    <span class=\"pl\">副标题:</span> 伟大艺术品背后的故事<br>\n",
    "\n",
    "    \n",
    "    \n",
    "  \n",
    "\n",
    "    \n",
    "    \n",
    "  \n",
    "\n",
    "    \n",
    "    \n",
    "  \n",
    "    <span class=\"pl\">出版年:</span> 2018-4<br>\n",
    "\n",
    "    \n",
    "    \n",
    "  \n",
    "    <span class=\"pl\">页数:</span> 246<br>\n",
    "\n",
    "    \n",
    "    \n",
    "  \n",
    "    <span class=\"pl\">定价:</span> 68.00元<br>\n",
    "\n",
    "    \n",
    "    \n",
    "  \n",
    "    <span class=\"pl\">装帧:</span> 裸背锁线<br>\n",
    "\n",
    "    \n",
    "    \n",
    "  \n",
    "\n",
    "    \n",
    "    \n",
    "  \n",
    "    \n",
    "      \n",
    "      <span class=\"pl\">ISBN:</span> 9787559617613<br>\n",
    "\n",
    "\n",
    "</div>'''"
   ]
  },
  {
   "cell_type": "code",
   "execution_count": 17,
   "metadata": {},
   "outputs": [],
   "source": [
    "from bs4 import BeautifulSoup\n",
    "soup = BeautifulSoup(content, 'html.parser')"
   ]
  },
  {
   "cell_type": "code",
   "execution_count": 18,
   "metadata": {},
   "outputs": [
    {
     "name": "stdout",
     "output_type": "stream",
     "text": [
      "翁昕\n"
     ]
    }
   ],
   "source": [
    "data = {}\n",
    "author = soup.find('div', id='info').find('a', class_=\"\")\n",
    "print(author.get_text())"
   ]
  },
  {
   "cell_type": "code",
   "execution_count": 19,
   "metadata": {},
   "outputs": [],
   "source": [
    "dict = {'https://book.douban.com/subject/2230208/', 'https://book.douban.com/subject/26698660/', 'https://book.douban.com/subject/27045888/', 'https://book.douban.com/subject/25862578/', 'https://book.douban.com/subject/26986954/', 'https://book.douban.com/subject/1082154/', 'https://book.douban.com/subject/1770782/', 'https://book.douban.com/subject/26853356/', 'https://book.douban.com/subject/6781808/', 'https://book.douban.com/subject/1008145/', 'https://book.douban.com/subject/27029890/', 'https://book.douban.com/subject/10594787/', 'https://book.douban.com/subject/26425831/', 'https://book.douban.com/subject/26957760/', 'https://book.douban.com/subject/4820710/', 'https://book.douban.com/subject/6082808/', 'https://book.douban.com/subject/1200840/', 'https://book.douban.com/subject/5431784/', 'https://book.douban.com/subject/1858513/', 'https://book.douban.com/subject/27614904/'}"
   ]
  },
  {
   "cell_type": "code",
   "execution_count": 24,
   "metadata": {},
   "outputs": [
    {
     "name": "stdout",
     "output_type": "stream",
     "text": [
      "['https://book.douban.com/subject/27029890/', 'https://book.douban.com/subject/25862578/', 'https://book.douban.com/subject/1082154/', 'https://book.douban.com/subject/4820710/', 'https://book.douban.com/subject/26698660/', 'https://book.douban.com/subject/26986954/', 'https://book.douban.com/subject/1200840/', 'https://book.douban.com/subject/27045888/', 'https://book.douban.com/subject/1770782/', 'https://book.douban.com/subject/6781808/', 'https://book.douban.com/subject/6082808/', 'https://book.douban.com/subject/26425831/', 'https://book.douban.com/subject/1858513/', 'https://book.douban.com/subject/10594787/', 'https://book.douban.com/subject/5431784/', 'https://book.douban.com/subject/26957760/', 'https://book.douban.com/subject/26853356/', 'https://book.douban.com/subject/1008145/', 'https://book.douban.com/subject/27614904/', 'https://book.douban.com/subject/2230208/']\n"
     ]
    }
   ],
   "source": [
    "print(list(dict))"
   ]
  },
  {
   "cell_type": "code",
   "execution_count": 25,
   "metadata": {},
   "outputs": [],
   "source": [
    "url = {'https://book.douban.com/subject/26986954/'}"
   ]
  },
  {
   "cell_type": "code",
   "execution_count": 28,
   "metadata": {},
   "outputs": [
    {
     "name": "stdout",
     "output_type": "stream",
     "text": [
      "{'https://book.douban.com/subject/26986954/'}\n"
     ]
    }
   ],
   "source": [
    "print(str(url))"
   ]
  },
  {
   "cell_type": "code",
   "execution_count": 1,
   "metadata": {},
   "outputs": [],
   "source": [
    "list = ['https://book.douban.com/subject/6082808/', 'https://book.douban.com/subject/1858513/', 'https://book.douban.com/subject/27045888/', 'https://book.douban.com/subject/26425831/', 'https://book.douban.com/subject/27029890/', 'https://book.douban.com/subject/26957760/', 'https://book.douban.com/subject/25862578/', 'https://book.douban.com/subject/1770782/', 'https://book.douban.com/subject/27614904/', 'https://book.douban.com/subject/26853356/', 'https://book.douban.com/subject/1082154/', 'https://book.douban.com/subject/4820710/', 'https://book.douban.com/subject/2230208/', 'https://book.douban.com/subject/6781808/', 'https://book.douban.com/subject/1008145/', 'https://book.douban.com/subject/1200840/', 'https://book.douban.com/subject/5431784/', 'https://book.douban.com/subject/26986954/', 'https://book.douban.com/subject/26698660/', 'https://book.douban.com/subject/10594787/']"
   ]
  },
  {
   "cell_type": "code",
   "execution_count": 2,
   "metadata": {},
   "outputs": [
    {
     "data": {
      "text/plain": [
       "20"
      ]
     },
     "execution_count": 2,
     "metadata": {},
     "output_type": "execute_result"
    }
   ],
   "source": [
    "len(list)"
   ]
  },
  {
   "cell_type": "code",
   "execution_count": 6,
   "metadata": {},
   "outputs": [
    {
     "data": {
      "text/plain": [
       "str"
      ]
     },
     "execution_count": 6,
     "metadata": {},
     "output_type": "execute_result"
    }
   ],
   "source": [
    "from pypinyin import lazy_pinyin\n",
    "type(lazy_pinyin('小说')[0])"
   ]
  },
  {
   "cell_type": "code",
   "execution_count": 7,
   "metadata": {},
   "outputs": [],
   "source": [
    "str=''.join(lazy_pinyin('小说'))"
   ]
  },
  {
   "cell_type": "code",
   "execution_count": 8,
   "metadata": {},
   "outputs": [
    {
     "data": {
      "text/plain": [
       "'xiaoshuo'"
      ]
     },
     "execution_count": 8,
     "metadata": {},
     "output_type": "execute_result"
    }
   ],
   "source": [
    "str"
   ]
  },
  {
   "cell_type": "code",
   "execution_count": 4,
   "metadata": {},
   "outputs": [
    {
     "name": "stdout",
     "output_type": "stream",
     "text": [
      "[{'url': 'https://book.douban.com/subject/26425831/', 'title': '斯通纳', 'author': '[美] 约翰·威廉斯', 'score': ' 8.8 ', 'summary': '《斯通纳》讲述了生命中最重要的部分：爱，认同，怜悯，志业，傲骨，信任与死亡。一个勇者有过的失败不失意的人生：即使不能拥有完美的生活，所幸追求过完整的自我。美国，密苏里州。来自偏远农场的农家子弟、19岁的威廉·斯通纳进入州立密苏里大学学习农学。自一堂选修文学课为起点， 他的一生就此悄然改变。未来的斯通纳成为了一名大学老师，结婚、生子、教学、退休、衰老、死亡。在他生命的尽头，或许他可以坦然面对这个问题：你的一生，还要期望别的什么吗？一部蕴含着真诚、激情与紧凑力量的小说，探究了历史洪流所忽视的人性之间的冲突、溃败与幸存，重新唤起思考每个个体独特存在的意义。作者约翰·威廉斯向世人展示了凡人中的勇者在如何生活。----------------------------------------威廉斯的写作显得澄澈、节制却准确。就像被打磨光滑的橡木上反射出...(展开全部)'}]\n"
     ]
    }
   ],
   "source": [
    "data = {'url': 'https://book.douban.com/subject/26425831/', 'title': '斯通纳', 'author': '[美] 约翰·威廉斯', 'score': ' 8.8 ', 'summary': '《斯通纳》讲述了生命中最重要的部分：爱，认同，怜悯，志业，傲骨，信任与死亡。一个勇者有过的失败不失意的人生：即使不能拥有完美的生活，所幸追求过完整的自我。美国，密苏里州。来自偏远农场的农家子弟、19岁的威廉·斯通纳进入州立密苏里大学学习农学。自一堂选修文学课为起点， 他的一生就此悄然改变。未来的斯通纳成为了一名大学老师，结婚、生子、教学、退休、衰老、死亡。在他生命的尽头，或许他可以坦然面对这个问题：你的一生，还要期望别的什么吗？一部蕴含着真诚、激情与紧凑力量的小说，探究了历史洪流所忽视的人性之间的冲突、溃败与幸存，重新唤起思考每个个体独特存在的意义。作者约翰·威廉斯向世人展示了凡人中的勇者在如何生活。----------------------------------------威廉斯的写作显得澄澈、节制却准确。就像被打磨光滑的橡木上反射出...(展开全部)'}\n",
    "dataset = list()\n",
    "dataset.append(data)\n",
    "print(dataset)"
   ]
  },
  {
   "cell_type": "code",
   "execution_count": null,
   "metadata": {},
   "outputs": [],
   "source": []
  }
 ],
 "metadata": {
  "kernelspec": {
   "display_name": "Python 3.6",
   "language": "python",
   "name": "python_3.6"
  },
  "language_info": {
   "codemirror_mode": {
    "name": "ipython",
    "version": 3
   },
   "file_extension": ".py",
   "mimetype": "text/x-python",
   "name": "python",
   "nbconvert_exporter": "python",
   "pygments_lexer": "ipython3",
   "version": "3.6.5"
  }
 },
 "nbformat": 4,
 "nbformat_minor": 2
}
